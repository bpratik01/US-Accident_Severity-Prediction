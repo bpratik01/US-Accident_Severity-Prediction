{
  "cells": [
    {
      "cell_type": "code",
      "execution_count": 99,
      "metadata": {
        "colab": {
          "base_uri": "https://localhost:8080/"
        },
        "id": "Stvkj-lDoWN4",
        "outputId": "b6435d24-d8bb-4915-e96d-f3076df8ef91"
      },
      "outputs": [
        {
          "name": "stdout",
          "output_type": "stream",
          "text": [
            "Drive already mounted at /content/drive; to attempt to forcibly remount, call drive.mount(\"/content/drive\", force_remount=True).\n"
          ]
        }
      ],
      "source": [
        "from google.colab import drive\n",
        "drive.mount(\"/content/drive\")"
      ]
    },
    {
      "cell_type": "code",
      "execution_count": 100,
      "metadata": {
        "id": "BEYhQuF6paNq"
      },
      "outputs": [],
      "source": [
        "import re\n",
        "import pandas as pd\n",
        "import numpy as np\n",
        "import matplotlib.pyplot as plt\n",
        "import seaborn as sns\n",
        "import folium\n",
        "from folium.plugins import MarkerCluster"
      ]
    },
    {
      "cell_type": "code",
      "execution_count": 101,
      "metadata": {
        "id": "6B2xMrEtpanP"
      },
      "outputs": [],
      "source": [
        "df = pd.read_csv('/content/drive/MyDrive/sampled_data.csv')"
      ]
    },
    {
      "cell_type": "code",
      "execution_count": 102,
      "metadata": {
        "colab": {
          "base_uri": "https://localhost:8080/",
          "height": 429
        },
        "id": "xtx6fjQ1BW3U",
        "outputId": "ff4c7f97-2b0d-43d6-a73a-5b8af5b2ac42"
      },
      "outputs": [
        {
          "data": {
            "application/vnd.google.colaboratory.intrinsic+json": {
              "type": "dataframe",
              "variable_name": "df"
            },
            "text/html": [
              "\n",
              "  <div id=\"df-a19e5d2b-5b28-436f-8f45-3509d57d8548\" class=\"colab-df-container\">\n",
              "    <div>\n",
              "<style scoped>\n",
              "    .dataframe tbody tr th:only-of-type {\n",
              "        vertical-align: middle;\n",
              "    }\n",
              "\n",
              "    .dataframe tbody tr th {\n",
              "        vertical-align: top;\n",
              "    }\n",
              "\n",
              "    .dataframe thead th {\n",
              "        text-align: right;\n",
              "    }\n",
              "</style>\n",
              "<table border=\"1\" class=\"dataframe\">\n",
              "  <thead>\n",
              "    <tr style=\"text-align: right;\">\n",
              "      <th></th>\n",
              "      <th>ID</th>\n",
              "      <th>Source</th>\n",
              "      <th>Severity</th>\n",
              "      <th>Start_Time</th>\n",
              "      <th>End_Time</th>\n",
              "      <th>Start_Lat</th>\n",
              "      <th>Start_Lng</th>\n",
              "      <th>End_Lat</th>\n",
              "      <th>End_Lng</th>\n",
              "      <th>Distance(mi)</th>\n",
              "      <th>...</th>\n",
              "      <th>Roundabout</th>\n",
              "      <th>Station</th>\n",
              "      <th>Stop</th>\n",
              "      <th>Traffic_Calming</th>\n",
              "      <th>Traffic_Signal</th>\n",
              "      <th>Turning_Loop</th>\n",
              "      <th>Sunrise_Sunset</th>\n",
              "      <th>Civil_Twilight</th>\n",
              "      <th>Nautical_Twilight</th>\n",
              "      <th>Astronomical_Twilight</th>\n",
              "    </tr>\n",
              "  </thead>\n",
              "  <tbody>\n",
              "    <tr>\n",
              "      <th>0</th>\n",
              "      <td>A-674146</td>\n",
              "      <td>Source2</td>\n",
              "      <td>2</td>\n",
              "      <td>2022-03-17 06:20:28</td>\n",
              "      <td>2022-03-17 07:04:43</td>\n",
              "      <td>39.357891</td>\n",
              "      <td>-77.550835</td>\n",
              "      <td>NaN</td>\n",
              "      <td>NaN</td>\n",
              "      <td>0.000</td>\n",
              "      <td>...</td>\n",
              "      <td>False</td>\n",
              "      <td>False</td>\n",
              "      <td>False</td>\n",
              "      <td>False</td>\n",
              "      <td>False</td>\n",
              "      <td>False</td>\n",
              "      <td>Night</td>\n",
              "      <td>Night</td>\n",
              "      <td>Day</td>\n",
              "      <td>Day</td>\n",
              "    </tr>\n",
              "    <tr>\n",
              "      <th>1</th>\n",
              "      <td>A-1390713</td>\n",
              "      <td>Source2</td>\n",
              "      <td>3</td>\n",
              "      <td>2020-07-17 10:46:37</td>\n",
              "      <td>2020-07-17 11:49:02</td>\n",
              "      <td>47.623505</td>\n",
              "      <td>-122.329315</td>\n",
              "      <td>NaN</td>\n",
              "      <td>NaN</td>\n",
              "      <td>0.000</td>\n",
              "      <td>...</td>\n",
              "      <td>False</td>\n",
              "      <td>False</td>\n",
              "      <td>False</td>\n",
              "      <td>False</td>\n",
              "      <td>False</td>\n",
              "      <td>False</td>\n",
              "      <td>Day</td>\n",
              "      <td>Day</td>\n",
              "      <td>Day</td>\n",
              "      <td>Day</td>\n",
              "    </tr>\n",
              "    <tr>\n",
              "      <th>2</th>\n",
              "      <td>A-4082714</td>\n",
              "      <td>Source1</td>\n",
              "      <td>2</td>\n",
              "      <td>2022-02-16 15:25:31</td>\n",
              "      <td>2022-02-16 16:47:51</td>\n",
              "      <td>35.764024</td>\n",
              "      <td>-80.071614</td>\n",
              "      <td>35.766739</td>\n",
              "      <td>-80.082386</td>\n",
              "      <td>0.632</td>\n",
              "      <td>...</td>\n",
              "      <td>False</td>\n",
              "      <td>False</td>\n",
              "      <td>False</td>\n",
              "      <td>False</td>\n",
              "      <td>False</td>\n",
              "      <td>False</td>\n",
              "      <td>Day</td>\n",
              "      <td>Day</td>\n",
              "      <td>Day</td>\n",
              "      <td>Day</td>\n",
              "    </tr>\n",
              "    <tr>\n",
              "      <th>3</th>\n",
              "      <td>A-4887571</td>\n",
              "      <td>Source1</td>\n",
              "      <td>2</td>\n",
              "      <td>2022-08-24 15:49:00</td>\n",
              "      <td>2022-08-24 18:04:30</td>\n",
              "      <td>38.484049</td>\n",
              "      <td>-77.393865</td>\n",
              "      <td>38.470352</td>\n",
              "      <td>-77.404721</td>\n",
              "      <td>1.114</td>\n",
              "      <td>...</td>\n",
              "      <td>False</td>\n",
              "      <td>False</td>\n",
              "      <td>False</td>\n",
              "      <td>False</td>\n",
              "      <td>False</td>\n",
              "      <td>False</td>\n",
              "      <td>Day</td>\n",
              "      <td>Day</td>\n",
              "      <td>Day</td>\n",
              "      <td>Day</td>\n",
              "    </tr>\n",
              "    <tr>\n",
              "      <th>4</th>\n",
              "      <td>A-1189120</td>\n",
              "      <td>Source2</td>\n",
              "      <td>2</td>\n",
              "      <td>2021-01-19 09:44:16</td>\n",
              "      <td>2021-01-19 10:43:27</td>\n",
              "      <td>29.686310</td>\n",
              "      <td>-95.364594</td>\n",
              "      <td>NaN</td>\n",
              "      <td>NaN</td>\n",
              "      <td>0.000</td>\n",
              "      <td>...</td>\n",
              "      <td>False</td>\n",
              "      <td>False</td>\n",
              "      <td>False</td>\n",
              "      <td>False</td>\n",
              "      <td>True</td>\n",
              "      <td>False</td>\n",
              "      <td>Day</td>\n",
              "      <td>Day</td>\n",
              "      <td>Day</td>\n",
              "      <td>Day</td>\n",
              "    </tr>\n",
              "  </tbody>\n",
              "</table>\n",
              "<p>5 rows × 46 columns</p>\n",
              "</div>\n",
              "    <div class=\"colab-df-buttons\">\n",
              "\n",
              "  <div class=\"colab-df-container\">\n",
              "    <button class=\"colab-df-convert\" onclick=\"convertToInteractive('df-a19e5d2b-5b28-436f-8f45-3509d57d8548')\"\n",
              "            title=\"Convert this dataframe to an interactive table.\"\n",
              "            style=\"display:none;\">\n",
              "\n",
              "  <svg xmlns=\"http://www.w3.org/2000/svg\" height=\"24px\" viewBox=\"0 -960 960 960\">\n",
              "    <path d=\"M120-120v-720h720v720H120Zm60-500h600v-160H180v160Zm220 220h160v-160H400v160Zm0 220h160v-160H400v160ZM180-400h160v-160H180v160Zm440 0h160v-160H620v160ZM180-180h160v-160H180v160Zm440 0h160v-160H620v160Z\"/>\n",
              "  </svg>\n",
              "    </button>\n",
              "\n",
              "  <style>\n",
              "    .colab-df-container {\n",
              "      display:flex;\n",
              "      gap: 12px;\n",
              "    }\n",
              "\n",
              "    .colab-df-convert {\n",
              "      background-color: #E8F0FE;\n",
              "      border: none;\n",
              "      border-radius: 50%;\n",
              "      cursor: pointer;\n",
              "      display: none;\n",
              "      fill: #1967D2;\n",
              "      height: 32px;\n",
              "      padding: 0 0 0 0;\n",
              "      width: 32px;\n",
              "    }\n",
              "\n",
              "    .colab-df-convert:hover {\n",
              "      background-color: #E2EBFA;\n",
              "      box-shadow: 0px 1px 2px rgba(60, 64, 67, 0.3), 0px 1px 3px 1px rgba(60, 64, 67, 0.15);\n",
              "      fill: #174EA6;\n",
              "    }\n",
              "\n",
              "    .colab-df-buttons div {\n",
              "      margin-bottom: 4px;\n",
              "    }\n",
              "\n",
              "    [theme=dark] .colab-df-convert {\n",
              "      background-color: #3B4455;\n",
              "      fill: #D2E3FC;\n",
              "    }\n",
              "\n",
              "    [theme=dark] .colab-df-convert:hover {\n",
              "      background-color: #434B5C;\n",
              "      box-shadow: 0px 1px 3px 1px rgba(0, 0, 0, 0.15);\n",
              "      filter: drop-shadow(0px 1px 2px rgba(0, 0, 0, 0.3));\n",
              "      fill: #FFFFFF;\n",
              "    }\n",
              "  </style>\n",
              "\n",
              "    <script>\n",
              "      const buttonEl =\n",
              "        document.querySelector('#df-a19e5d2b-5b28-436f-8f45-3509d57d8548 button.colab-df-convert');\n",
              "      buttonEl.style.display =\n",
              "        google.colab.kernel.accessAllowed ? 'block' : 'none';\n",
              "\n",
              "      async function convertToInteractive(key) {\n",
              "        const element = document.querySelector('#df-a19e5d2b-5b28-436f-8f45-3509d57d8548');\n",
              "        const dataTable =\n",
              "          await google.colab.kernel.invokeFunction('convertToInteractive',\n",
              "                                                    [key], {});\n",
              "        if (!dataTable) return;\n",
              "\n",
              "        const docLinkHtml = 'Like what you see? Visit the ' +\n",
              "          '<a target=\"_blank\" href=https://colab.research.google.com/notebooks/data_table.ipynb>data table notebook</a>'\n",
              "          + ' to learn more about interactive tables.';\n",
              "        element.innerHTML = '';\n",
              "        dataTable['output_type'] = 'display_data';\n",
              "        await google.colab.output.renderOutput(dataTable, element);\n",
              "        const docLink = document.createElement('div');\n",
              "        docLink.innerHTML = docLinkHtml;\n",
              "        element.appendChild(docLink);\n",
              "      }\n",
              "    </script>\n",
              "  </div>\n",
              "\n",
              "\n",
              "<div id=\"df-e51ce54f-6c36-44b0-8229-28146063379d\">\n",
              "  <button class=\"colab-df-quickchart\" onclick=\"quickchart('df-e51ce54f-6c36-44b0-8229-28146063379d')\"\n",
              "            title=\"Suggest charts\"\n",
              "            style=\"display:none;\">\n",
              "\n",
              "<svg xmlns=\"http://www.w3.org/2000/svg\" height=\"24px\"viewBox=\"0 0 24 24\"\n",
              "     width=\"24px\">\n",
              "    <g>\n",
              "        <path d=\"M19 3H5c-1.1 0-2 .9-2 2v14c0 1.1.9 2 2 2h14c1.1 0 2-.9 2-2V5c0-1.1-.9-2-2-2zM9 17H7v-7h2v7zm4 0h-2V7h2v10zm4 0h-2v-4h2v4z\"/>\n",
              "    </g>\n",
              "</svg>\n",
              "  </button>\n",
              "\n",
              "<style>\n",
              "  .colab-df-quickchart {\n",
              "      --bg-color: #E8F0FE;\n",
              "      --fill-color: #1967D2;\n",
              "      --hover-bg-color: #E2EBFA;\n",
              "      --hover-fill-color: #174EA6;\n",
              "      --disabled-fill-color: #AAA;\n",
              "      --disabled-bg-color: #DDD;\n",
              "  }\n",
              "\n",
              "  [theme=dark] .colab-df-quickchart {\n",
              "      --bg-color: #3B4455;\n",
              "      --fill-color: #D2E3FC;\n",
              "      --hover-bg-color: #434B5C;\n",
              "      --hover-fill-color: #FFFFFF;\n",
              "      --disabled-bg-color: #3B4455;\n",
              "      --disabled-fill-color: #666;\n",
              "  }\n",
              "\n",
              "  .colab-df-quickchart {\n",
              "    background-color: var(--bg-color);\n",
              "    border: none;\n",
              "    border-radius: 50%;\n",
              "    cursor: pointer;\n",
              "    display: none;\n",
              "    fill: var(--fill-color);\n",
              "    height: 32px;\n",
              "    padding: 0;\n",
              "    width: 32px;\n",
              "  }\n",
              "\n",
              "  .colab-df-quickchart:hover {\n",
              "    background-color: var(--hover-bg-color);\n",
              "    box-shadow: 0 1px 2px rgba(60, 64, 67, 0.3), 0 1px 3px 1px rgba(60, 64, 67, 0.15);\n",
              "    fill: var(--button-hover-fill-color);\n",
              "  }\n",
              "\n",
              "  .colab-df-quickchart-complete:disabled,\n",
              "  .colab-df-quickchart-complete:disabled:hover {\n",
              "    background-color: var(--disabled-bg-color);\n",
              "    fill: var(--disabled-fill-color);\n",
              "    box-shadow: none;\n",
              "  }\n",
              "\n",
              "  .colab-df-spinner {\n",
              "    border: 2px solid var(--fill-color);\n",
              "    border-color: transparent;\n",
              "    border-bottom-color: var(--fill-color);\n",
              "    animation:\n",
              "      spin 1s steps(1) infinite;\n",
              "  }\n",
              "\n",
              "  @keyframes spin {\n",
              "    0% {\n",
              "      border-color: transparent;\n",
              "      border-bottom-color: var(--fill-color);\n",
              "      border-left-color: var(--fill-color);\n",
              "    }\n",
              "    20% {\n",
              "      border-color: transparent;\n",
              "      border-left-color: var(--fill-color);\n",
              "      border-top-color: var(--fill-color);\n",
              "    }\n",
              "    30% {\n",
              "      border-color: transparent;\n",
              "      border-left-color: var(--fill-color);\n",
              "      border-top-color: var(--fill-color);\n",
              "      border-right-color: var(--fill-color);\n",
              "    }\n",
              "    40% {\n",
              "      border-color: transparent;\n",
              "      border-right-color: var(--fill-color);\n",
              "      border-top-color: var(--fill-color);\n",
              "    }\n",
              "    60% {\n",
              "      border-color: transparent;\n",
              "      border-right-color: var(--fill-color);\n",
              "    }\n",
              "    80% {\n",
              "      border-color: transparent;\n",
              "      border-right-color: var(--fill-color);\n",
              "      border-bottom-color: var(--fill-color);\n",
              "    }\n",
              "    90% {\n",
              "      border-color: transparent;\n",
              "      border-bottom-color: var(--fill-color);\n",
              "    }\n",
              "  }\n",
              "</style>\n",
              "\n",
              "  <script>\n",
              "    async function quickchart(key) {\n",
              "      const quickchartButtonEl =\n",
              "        document.querySelector('#' + key + ' button');\n",
              "      quickchartButtonEl.disabled = true;  // To prevent multiple clicks.\n",
              "      quickchartButtonEl.classList.add('colab-df-spinner');\n",
              "      try {\n",
              "        const charts = await google.colab.kernel.invokeFunction(\n",
              "            'suggestCharts', [key], {});\n",
              "      } catch (error) {\n",
              "        console.error('Error during call to suggestCharts:', error);\n",
              "      }\n",
              "      quickchartButtonEl.classList.remove('colab-df-spinner');\n",
              "      quickchartButtonEl.classList.add('colab-df-quickchart-complete');\n",
              "    }\n",
              "    (() => {\n",
              "      let quickchartButtonEl =\n",
              "        document.querySelector('#df-e51ce54f-6c36-44b0-8229-28146063379d button');\n",
              "      quickchartButtonEl.style.display =\n",
              "        google.colab.kernel.accessAllowed ? 'block' : 'none';\n",
              "    })();\n",
              "  </script>\n",
              "</div>\n",
              "\n",
              "    </div>\n",
              "  </div>\n"
            ],
            "text/plain": [
              "          ID   Source  Severity           Start_Time             End_Time  \\\n",
              "0   A-674146  Source2         2  2022-03-17 06:20:28  2022-03-17 07:04:43   \n",
              "1  A-1390713  Source2         3  2020-07-17 10:46:37  2020-07-17 11:49:02   \n",
              "2  A-4082714  Source1         2  2022-02-16 15:25:31  2022-02-16 16:47:51   \n",
              "3  A-4887571  Source1         2  2022-08-24 15:49:00  2022-08-24 18:04:30   \n",
              "4  A-1189120  Source2         2  2021-01-19 09:44:16  2021-01-19 10:43:27   \n",
              "\n",
              "   Start_Lat   Start_Lng    End_Lat    End_Lng  Distance(mi)  ... Roundabout  \\\n",
              "0  39.357891  -77.550835        NaN        NaN         0.000  ...      False   \n",
              "1  47.623505 -122.329315        NaN        NaN         0.000  ...      False   \n",
              "2  35.764024  -80.071614  35.766739 -80.082386         0.632  ...      False   \n",
              "3  38.484049  -77.393865  38.470352 -77.404721         1.114  ...      False   \n",
              "4  29.686310  -95.364594        NaN        NaN         0.000  ...      False   \n",
              "\n",
              "  Station   Stop Traffic_Calming Traffic_Signal Turning_Loop Sunrise_Sunset  \\\n",
              "0   False  False           False          False        False          Night   \n",
              "1   False  False           False          False        False            Day   \n",
              "2   False  False           False          False        False            Day   \n",
              "3   False  False           False          False        False            Day   \n",
              "4   False  False           False           True        False            Day   \n",
              "\n",
              "  Civil_Twilight Nautical_Twilight Astronomical_Twilight  \n",
              "0          Night               Day                   Day  \n",
              "1            Day               Day                   Day  \n",
              "2            Day               Day                   Day  \n",
              "3            Day               Day                   Day  \n",
              "4            Day               Day                   Day  \n",
              "\n",
              "[5 rows x 46 columns]"
            ]
          },
          "execution_count": 102,
          "metadata": {},
          "output_type": "execute_result"
        }
      ],
      "source": [
        "df.head()"
      ]
    },
    {
      "cell_type": "code",
      "execution_count": 103,
      "metadata": {
        "colab": {
          "base_uri": "https://localhost:8080/",
          "height": 209
        },
        "id": "wp8rmPiHZ2p9",
        "outputId": "7661e8f8-78cf-49c4-8a8a-b2fcc139afa0"
      },
      "outputs": [
        {
          "data": {
            "text/html": [
              "<div>\n",
              "<style scoped>\n",
              "    .dataframe tbody tr th:only-of-type {\n",
              "        vertical-align: middle;\n",
              "    }\n",
              "\n",
              "    .dataframe tbody tr th {\n",
              "        vertical-align: top;\n",
              "    }\n",
              "\n",
              "    .dataframe thead th {\n",
              "        text-align: right;\n",
              "    }\n",
              "</style>\n",
              "<table border=\"1\" class=\"dataframe\">\n",
              "  <thead>\n",
              "    <tr style=\"text-align: right;\">\n",
              "      <th></th>\n",
              "      <th>count</th>\n",
              "    </tr>\n",
              "    <tr>\n",
              "      <th>Source</th>\n",
              "      <th></th>\n",
              "    </tr>\n",
              "  </thead>\n",
              "  <tbody>\n",
              "    <tr>\n",
              "      <th>Source1</th>\n",
              "      <td>216787</td>\n",
              "    </tr>\n",
              "    <tr>\n",
              "      <th>Source2</th>\n",
              "      <td>164804</td>\n",
              "    </tr>\n",
              "    <tr>\n",
              "      <th>Source3</th>\n",
              "      <td>4828</td>\n",
              "    </tr>\n",
              "  </tbody>\n",
              "</table>\n",
              "</div><br><label><b>dtype:</b> int64</label>"
            ],
            "text/plain": [
              "Source\n",
              "Source1    216787\n",
              "Source2    164804\n",
              "Source3      4828\n",
              "Name: count, dtype: int64"
            ]
          },
          "execution_count": 103,
          "metadata": {},
          "output_type": "execute_result"
        }
      ],
      "source": [
        "df['Source'].value_counts()"
      ]
    },
    {
      "cell_type": "code",
      "execution_count": 104,
      "metadata": {
        "colab": {
          "base_uri": "https://localhost:8080/"
        },
        "id": "4fFOMp0LU5Jx",
        "outputId": "23ba518c-a903-45a7-d8b2-4faae01b959e"
      },
      "outputs": [
        {
          "data": {
            "text/plain": [
              "(386419, 46)"
            ]
          },
          "execution_count": 104,
          "metadata": {},
          "output_type": "execute_result"
        }
      ],
      "source": [
        "df.shape"
      ]
    },
    {
      "cell_type": "code",
      "execution_count": 105,
      "metadata": {
        "colab": {
          "base_uri": "https://localhost:8080/",
          "height": 241
        },
        "id": "-4EAtOacAo2s",
        "outputId": "21624830-bc22-4e8c-ac7b-0e2cc7c4841a"
      },
      "outputs": [
        {
          "data": {
            "text/html": [
              "<div>\n",
              "<style scoped>\n",
              "    .dataframe tbody tr th:only-of-type {\n",
              "        vertical-align: middle;\n",
              "    }\n",
              "\n",
              "    .dataframe tbody tr th {\n",
              "        vertical-align: top;\n",
              "    }\n",
              "\n",
              "    .dataframe thead th {\n",
              "        text-align: right;\n",
              "    }\n",
              "</style>\n",
              "<table border=\"1\" class=\"dataframe\">\n",
              "  <thead>\n",
              "    <tr style=\"text-align: right;\">\n",
              "      <th></th>\n",
              "      <th>count</th>\n",
              "    </tr>\n",
              "    <tr>\n",
              "      <th>Severity</th>\n",
              "      <th></th>\n",
              "    </tr>\n",
              "  </thead>\n",
              "  <tbody>\n",
              "    <tr>\n",
              "      <th>2</th>\n",
              "      <td>307849</td>\n",
              "    </tr>\n",
              "    <tr>\n",
              "      <th>3</th>\n",
              "      <td>64967</td>\n",
              "    </tr>\n",
              "    <tr>\n",
              "      <th>4</th>\n",
              "      <td>10235</td>\n",
              "    </tr>\n",
              "    <tr>\n",
              "      <th>1</th>\n",
              "      <td>3368</td>\n",
              "    </tr>\n",
              "  </tbody>\n",
              "</table>\n",
              "</div><br><label><b>dtype:</b> int64</label>"
            ],
            "text/plain": [
              "Severity\n",
              "2    307849\n",
              "3     64967\n",
              "4     10235\n",
              "1      3368\n",
              "Name: count, dtype: int64"
            ]
          },
          "execution_count": 105,
          "metadata": {},
          "output_type": "execute_result"
        }
      ],
      "source": [
        "df['Severity'].value_counts()"
      ]
    },
    {
      "cell_type": "markdown",
      "metadata": {
        "id": "jEIpSrfnAxpU"
      },
      "source": [
        "In the original data the value_counts for the Severity was ![image.png](data:image/png;base64,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)"
      ]
    },
    {
      "cell_type": "code",
      "execution_count": 106,
      "metadata": {
        "colab": {
          "base_uri": "https://localhost:8080/"
        },
        "id": "3umbr8Fb5RPc",
        "outputId": "12cdbc9c-88f4-445c-a310-e2004afa3ae4"
      },
      "outputs": [
        {
          "name": "stdout",
          "output_type": "stream",
          "text": [
            "<class 'pandas.core.frame.DataFrame'>\n",
            "RangeIndex: 386419 entries, 0 to 386418\n",
            "Data columns (total 46 columns):\n",
            " #   Column                 Non-Null Count   Dtype  \n",
            "---  ------                 --------------   -----  \n",
            " 0   ID                     386419 non-null  object \n",
            " 1   Source                 386419 non-null  object \n",
            " 2   Severity               386419 non-null  int64  \n",
            " 3   Start_Time             386419 non-null  object \n",
            " 4   End_Time               386419 non-null  object \n",
            " 5   Start_Lat              386419 non-null  float64\n",
            " 6   Start_Lng              386419 non-null  float64\n",
            " 7   End_Lat                216787 non-null  float64\n",
            " 8   End_Lng                216787 non-null  float64\n",
            " 9   Distance(mi)           386419 non-null  float64\n",
            " 10  Description            386419 non-null  object \n",
            " 11  Street                 385928 non-null  object \n",
            " 12  City                   386397 non-null  object \n",
            " 13  County                 386419 non-null  object \n",
            " 14  State                  386419 non-null  object \n",
            " 15  Zipcode                386333 non-null  object \n",
            " 16  Country                386419 non-null  object \n",
            " 17  Timezone               386042 non-null  object \n",
            " 18  Airport_Code           385255 non-null  object \n",
            " 19  Weather_Timestamp      380319 non-null  object \n",
            " 20  Temperature(F)         378117 non-null  float64\n",
            " 21  Wind_Chill(F)          286720 non-null  float64\n",
            " 22  Humidity(%)            377607 non-null  float64\n",
            " 23  Pressure(in)           379280 non-null  float64\n",
            " 24  Visibility(mi)         377483 non-null  float64\n",
            " 25  Wind_Direction         377554 non-null  object \n",
            " 26  Wind_Speed(mph)        357927 non-null  float64\n",
            " 27  Precipitation(in)      276467 non-null  float64\n",
            " 28  Weather_Condition      377649 non-null  object \n",
            " 29  Amenity                386419 non-null  bool   \n",
            " 30  Bump                   386419 non-null  bool   \n",
            " 31  Crossing               386419 non-null  bool   \n",
            " 32  Give_Way               386419 non-null  bool   \n",
            " 33  Junction               386419 non-null  bool   \n",
            " 34  No_Exit                386419 non-null  bool   \n",
            " 35  Railway                386419 non-null  bool   \n",
            " 36  Roundabout             386419 non-null  bool   \n",
            " 37  Station                386419 non-null  bool   \n",
            " 38  Stop                   386419 non-null  bool   \n",
            " 39  Traffic_Calming        386419 non-null  bool   \n",
            " 40  Traffic_Signal         386419 non-null  bool   \n",
            " 41  Turning_Loop           386419 non-null  bool   \n",
            " 42  Sunrise_Sunset         385207 non-null  object \n",
            " 43  Civil_Twilight         385207 non-null  object \n",
            " 44  Nautical_Twilight      385207 non-null  object \n",
            " 45  Astronomical_Twilight  385207 non-null  object \n",
            "dtypes: bool(13), float64(12), int64(1), object(20)\n",
            "memory usage: 102.1+ MB\n"
          ]
        }
      ],
      "source": [
        "df.info()\n"
      ]
    },
    {
      "cell_type": "code",
      "execution_count": 107,
      "metadata": {
        "id": "JHvNu7BLVo_8"
      },
      "outputs": [],
      "source": [
        "df['Start_Time'] = pd.to_datetime(df['Start_Time'], format='mixed', errors='coerce')\n",
        "df['End_Time'] = pd.to_datetime(df['End_Time'], format='mixed', errors='coerce')\n"
      ]
    },
    {
      "cell_type": "markdown",
      "metadata": {
        "id": "ZgybBgsYYhmY"
      },
      "source": [
        "# **EDA**"
      ]
    },
    {
      "cell_type": "code",
      "execution_count": 108,
      "metadata": {
        "colab": {
          "base_uri": "https://localhost:8080/",
          "height": 698
        },
        "id": "1qki0iYzY1tV",
        "outputId": "9f31e12a-efea-46ad-d934-167ec46cd73b"
      },
      "outputs": [
        {
          "name": "stderr",
          "output_type": "stream",
          "text": [
            "<ipython-input-108-d2e98455feb6>:7: FutureWarning: \n",
            "\n",
            "Passing `palette` without assigning `hue` is deprecated and will be removed in v0.14.0. Assign the `x` variable to `hue` and set `legend=False` for the same effect.\n",
            "\n",
            "  sns.barplot(x=top_10_cities.index, y=top_10_cities.values, palette='Spectral')\n"
          ]
        },
        {
          "data": {
            "image/png": "[encoded data removed]",
            "text/plain": [
              "<Figure size 1000x600 with 1 Axes>"
            ]
          },
          "metadata": {},
          "output_type": "display_data"
        }
      ],
      "source": [
        "city_accident_counts = df['City'].value_counts()\n",
        "\n",
        "top_10_cities = city_accident_counts.head(10)\n",
        "\n",
        "plt.figure(figsize=(10, 6))\n",
        "\n",
        "sns.barplot(x=top_10_cities.index, y=top_10_cities.values, palette='Spectral')\n",
        "\n",
        "for i, value in enumerate(top_10_cities.values):\n",
        "    plt.text(i, value + 200, str(value), ha='center', fontsize=10, color='black')\n",
        "\n",
        "plt.plot(range(len(top_10_cities.index)), top_10_cities.values, marker='o', color='blue', linestyle='-', linewidth=2)\n",
        "\n",
        "plt.title('Top 10 Cities with Most Accidents', fontsize=16, fontweight='bold')\n",
        "plt.xlabel('City', fontsize=14)\n",
        "plt.ylabel('Number of Accidents', fontsize=14)\n",
        "plt.grid(axis='y', linestyle='--', alpha=0.5)\n",
        "plt.xticks(rotation=15)\n",
        "plt.tight_layout()\n",
        "\n",
        "plt.show()\n"
      ]
    },
    {
      "cell_type": "markdown",
      "metadata": {
        "id": "wKAuQt6NcJHB"
      },
      "source": [
        "### Observations\n",
        "\n",
        "\n",
        "*   Miami leads with significantly higher accidents compared to other cities. This suggests a need for focused attention on traffic safety measures in Miami.\n",
        "*   \n",
        "Large metropolitan areas dominate the list: Cities like Houston, Los Angeles, and Dallas, known for high population density and traffic, have a considerable number of accidents.\n",
        "\n",
        "\n"
      ]
    },
    {
      "cell_type": "code",
      "execution_count": 109,
      "metadata": {
        "colab": {
          "base_uri": "https://localhost:8080/",
          "height": 698
        },
        "id": "1XVUkL1QZNTY",
        "outputId": "e71652f6-e0b2-4b26-bbde-dc8824083932"
      },
      "outputs": [
        {
          "name": "stderr",
          "output_type": "stream",
          "text": [
            "<ipython-input-109-92d2f64a63ad>:8: FutureWarning: \n",
            "\n",
            "Passing `palette` without assigning `hue` is deprecated and will be removed in v0.14.0. Assign the `x` variable to `hue` and set `legend=False` for the same effect.\n",
            "\n",
            "  sns.barplot(x= top_10_streets.index, y= top_10_streets.values, palette='Spectral')\n"
          ]
        },
        {
          "data": {
            "image/png": "[encoded data removed]",
            "text/plain": [
              "<Figure size 1000x600 with 1 Axes>"
            ]
          },
          "metadata": {},
          "output_type": "display_data"
        }
      ],
      "source": [
        "street_accident_counts = df['Street'].value_counts()\n",
        "\n",
        "top_10_streets = street_accident_counts.head(10)\n",
        "\n",
        "plt.figure(figsize=(10, 6))\n",
        "\n",
        "# Create the barplot with vertical bars\n",
        "sns.barplot(x= top_10_streets.index, y= top_10_streets.values, palette='Spectral')\n",
        "\n",
        "for i, value in enumerate(top_10_streets.values):\n",
        "    plt.text(i, value + 80, str(value), ha='center', fontsize=10, color='black')\n",
        "\n",
        "plt.plot(range(len(top_10_streets.index)), top_10_streets.values, marker='o', color='blue', linestyle='-', linewidth=2)\n",
        "\n",
        "plt.title('Top 10 Streets with Most Accidents', fontsize=16, fontweight='bold')\n",
        "plt.xlabel('Street Names', fontsize=14)\n",
        "plt.ylabel('Number of Accidents', fontsize=14)\n",
        "plt.grid(axis='y', linestyle='--', alpha=0.5)\n",
        "plt.xticks(rotation=15)\n",
        "plt.tight_layout()\n",
        "\n",
        "plt.show()"
      ]
    },
    {
      "cell_type": "code",
      "execution_count": 110,
      "metadata": {
        "colab": {
          "base_uri": "https://localhost:8080/",
          "height": 507
        },
        "id": "XLzALxK5ia6B",
        "outputId": "bccab841-aba3-47c9-8f4a-361e910c4fac"
      },
      "outputs": [
        {
          "data": {
            "image/png": "[encoded data removed]",
            "text/plain": [
              "<Figure size 600x500 with 1 Axes>"
            ]
          },
          "metadata": {},
          "output_type": "display_data"
        }
      ],
      "source": [
        "def get_state_name(state_code):\n",
        "    state_name_mapping = {\n",
        "        'CA': 'California', 'FL': 'Florida', 'TX': 'Texas', 'SC': 'South Carolina',\n",
        "        'NY': 'New York', 'NC': 'North Carolina', 'VA': 'Virginia', 'PA': 'Pennsylvania',\n",
        "        'MN': 'Minnesota', 'OR': 'Oregon', 'AZ': 'Arizona', 'GA': 'Georgia',\n",
        "        'TN': 'Tennessee', 'IL': 'Illinois', 'MI': 'Michigan', 'LA': 'Louisiana',\n",
        "        'MD': 'Maryland', 'NJ': 'New Jersey', 'OH': 'Ohio', 'WA': 'Washington',\n",
        "        'AL': 'Alabama', 'UT': 'Utah', 'CO': 'Colorado', 'OK': 'Oklahoma',\n",
        "        'MO': 'Missouri', 'CT': 'Connecticut', 'IN': 'Indiana', 'MA': 'Massachusetts',\n",
        "        'WI': 'Wisconsin', 'KY': 'Kentucky', 'MT': 'Montana', 'NE': 'Nebraska',\n",
        "        'IA': 'Iowa', 'AR': 'Arkansas', 'KS': 'Kansas', 'NV': 'Nevada',\n",
        "        'DC': 'District of Columbia', 'RI': 'Rhode Island', 'MS': 'Mississippi',\n",
        "        'DE': 'Delaware', 'WV': 'West Virginia', 'ID': 'Idaho', 'NH': 'New Hampshire',\n",
        "        'NM': 'New Mexico', 'WY': 'Wyoming', 'ND': 'North Dakota', 'ME': 'Maine',\n",
        "        'VT': 'Vermont', 'SD': 'South Dakota'\n",
        "    }\n",
        "    return state_name_mapping.get(state_code, state_code)\n",
        "\n",
        "# Get top 5 states with most accidents and map to their full names\n",
        "state_accident_counts = df['State'].value_counts()\n",
        "top_5_states = state_accident_counts.head(5)\n",
        "top_5_states.index = top_5_states.index.map(get_state_name)\n",
        "\n",
        "# Define explode values to highlight each slice\n",
        "explode = [0.1, 0.1, 0.05, 0.05, 0.05]  # Slightly explode all slices for aesthetics\n",
        "\n",
        "# Define a color palette for the pie chart\n",
        "colors = sns.color_palette('PuRd', len(top_5_states))\n",
        "\n",
        "\n",
        "# Plot the pie chart\n",
        "plt.figure(figsize=(6, 5))\n",
        "plt.pie(\n",
        "    top_5_states,\n",
        "    labels=top_5_states.index,\n",
        "    autopct='%1.1f%%',\n",
        "    startangle=140,\n",
        "    explode=explode,\n",
        "    colors=colors,\n",
        "    shadow=True,\n",
        "    textprops={'fontsize': 12}\n",
        ")\n",
        "\n",
        "# Add a title\n",
        "plt.title('Top 5 States with Most Accidents', fontsize=16, fontweight='bold')\n",
        "\n",
        "# Display the plot\n",
        "plt.tight_layout()\n",
        "plt.show()\n"
      ]
    },
    {
      "cell_type": "code",
      "execution_count": 111,
      "metadata": {
        "colab": {
          "base_uri": "https://localhost:8080/",
          "height": 898
        },
        "id": "VtSdXjP1kOyD",
        "outputId": "b8c84f9a-2aac-4a74-ee9c-395898945a64"
      },
      "outputs": [
        {
          "name": "stderr",
          "output_type": "stream",
          "text": [
            "<ipython-input-111-7645866bee4d>:12: FutureWarning: \n",
            "\n",
            "Passing `palette` without assigning `hue` is deprecated and will be removed in v0.14.0. Assign the `x` variable to `hue` and set `legend=False` for the same effect.\n",
            "\n",
            "  sns.barplot(x=hourly_accidents.index, y=hourly_accidents.values, palette='viridis')\n"
          ]
        },
        {
          "data": {
            "image/png": "[encoded data removed]",
            "text/plain": [
              "<Figure size 1400x800 with 1 Axes>"
            ]
          },
          "metadata": {},
          "output_type": "display_data"
        }
      ],
      "source": [
        "df['Hour'] = df['Start_Time'].dt.hour\n",
        "\n",
        "# Count the number of accidents for each hour\n",
        "hourly_accidents = df['Hour'].value_counts().sort_index()\n",
        "\n",
        "# Find the hour range with the most accidents\n",
        "most_accidents_hour = hourly_accidents.idxmax()\n",
        "most_accidents_count = hourly_accidents.max()\n",
        "\n",
        " # Plot the hourly distribution of accidents\n",
        "plt.figure(figsize=(14, 8))\n",
        "sns.barplot(x=hourly_accidents.index, y=hourly_accidents.values, palette='viridis')\n",
        "# Add annotations (accident counts) on each bar\n",
        "for i, value in enumerate(hourly_accidents.values):\n",
        "    plt.text(i, value + 50, str(value), ha='center', fontsize=10, color='black', fontweight='bold')\n",
        "# Set title and axis labels\n",
        "plt.title('Hourly Distribution of Accidents', fontsize=16, fontweight='bold')\n",
        "plt.xlabel('Hour of the Day', fontsize=14)\n",
        "plt.ylabel('Number of Accidents', fontsize=14)\n",
        "# Highlight the peak hour\n",
        "plt.axvline(x=most_accidents_hour, color='red', linestyle='--', linewidth=1.5, label=f'Peak Hour: {most_accidents_hour}:00')\n",
        "plt.legend()\n",
        "# Add grid for better readability\n",
        "plt.grid(axis='y', linestyle='--', alpha=0.7)\n",
        "plt.tight_layout()\n",
        "plt.show()\n"
      ]
    },
    {
      "cell_type": "code",
      "execution_count": 112,
      "metadata": {
        "collapsed": true,
        "id": "P15y6sCnnosL"
      },
      "outputs": [],
      "source": [
        "\n",
        "\n",
        "# # US geographical center coordinates\n",
        "# us_center_lat, us_center_lng = 39.8283, -98.5795\n",
        "\n",
        "# # Subset data to reduce load on the map (e.g., use the first 10,000 records for demonstration)\n",
        "# sample_df = df[['Start_Lat', 'Start_Lng']].dropna().head(100000)\n",
        "\n",
        "# # Create a Folium map centered on the US\n",
        "# map_us = folium.Map(location=[us_center_lat, us_center_lng], zoom_start=5)\n",
        "\n",
        "# # Create a marker cluster\n",
        "# marker_cluster = MarkerCluster().add_to(map_us)\n",
        "\n",
        "# # Add markers to the cluster\n",
        "# for lat, lng in zip(df['Start_Lat'], df['Start_Lng']):\n",
        "#     folium.Marker(location=[lat, lng]).add_to(marker_cluster)\n",
        "\n",
        "# # Display the map\n",
        "# map_us.save(\"us_accidents_map.html\")\n",
        "# map_us\n"
      ]
    },
    {
      "cell_type": "markdown",
      "metadata": {
        "id": "OwdPGyKPVVcL"
      },
      "source": [
        "# Feature Selection for Severity Prediction\n",
        "\n",
        "**1. `ID`**\n",
        "\n",
        "* **Why drop?** This unique identifier doesn't tell us anything about how severe an accident was.\n",
        "\n",
        "**2. `Description`**\n",
        "\n",
        "* **Why drop?** Accident descriptions are text, and making sense of them for our model would take a lot of work. It's simpler to focus on other information.\n",
        "\n",
        "**3. `Wind_Chill(F)`**\n",
        "\n",
        "* **Reason:** Wind chill is often closely related to temperature. Since we already have temperature, including wind chill might confuse the model without adding much useful information.\n",
        "\n",
        "**4. `Zipcode`**\n",
        "\n",
        "* **Why drop?** Exact zip codes are too specific. Using broader locations like cities or states will be more helpful.\n",
        "\n",
        "**5. `Country`**\n",
        "\n",
        "* **Why drop?** All accidents in our dataset are in the US, so this information is the same for every entry.\n",
        "\n",
        "**6. `Timezone`**\n",
        "\n",
        "* **Why drop?** We can figure out the time from other information like the `Start_Time`. Timezone itself doesn't directly affect accident severity.\n",
        "\n",
        "**7. `Airport_Code`**\n",
        "\n",
        "* **Why drop?** Whether an accident is near an airport probably doesn't have a strong impact on how serious it is.\n",
        "\n",
        "**8. `Weather_Timestamp`**\n",
        "\n",
        "* **Why drop?** We already have the weather details (temperature, humidity, visibility, etc.). The exact time the weather was recorded isn't as important.\n",
        "\n",
        "**9. `Turning_Loop`**\n",
        "\n",
        "* **Why drop?** Most of the time, this information is the same for all accidents. Features that don't vary much aren't helpful for prediction.\n",
        "\n",
        "**10. `Nautical_Twilight`, `Civil_Twilight`, `Astronomical_Twilight`**\n",
        "\n",
        "* **Why drop?** These specific times of twilight are probably not a major factor in how severe an accident turns out to be."
      ]
    },
    {
      "cell_type": "code",
      "execution_count": 113,
      "metadata": {
        "colab": {
          "base_uri": "https://localhost:8080/"
        },
        "id": "w_8MPziVYO_1",
        "outputId": "02e1d38f-0256-48f4-9326-b4ac702c200e"
      },
      "outputs": [
        {
          "name": "stdout",
          "output_type": "stream",
          "text": [
            "Columns dropped: ['ID', 'Description', 'Street', 'Zipcode', 'Country', 'Timezone', 'Airport_Code', 'Weather_Timestamp', 'Turning_Loop', 'Nautical_Twilight', 'Civil_Twilight', 'Astronomical_Twilight']\n",
            "Remaining columns: ['Source', 'Severity', 'Start_Time', 'End_Time', 'Start_Lat', 'Start_Lng', 'End_Lat', 'End_Lng', 'Distance(mi)', 'City', 'County', 'State', 'Temperature(F)', 'Wind_Chill(F)', 'Humidity(%)', 'Pressure(in)', 'Visibility(mi)', 'Wind_Direction', 'Wind_Speed(mph)', 'Precipitation(in)', 'Weather_Condition', 'Amenity', 'Bump', 'Crossing', 'Give_Way', 'Junction', 'No_Exit', 'Railway', 'Roundabout', 'Station', 'Stop', 'Traffic_Calming', 'Traffic_Signal', 'Sunrise_Sunset', 'Hour']\n"
          ]
        }
      ],
      "source": [
        "columns_to_drop = [\n",
        "    'ID', 'Description', 'Street', 'Zipcode', 'Country',\n",
        "    'Timezone', 'Airport_Code', 'Weather_Timestamp',\n",
        "    'Turning_Loop', 'Nautical_Twilight', 'Civil_Twilight', 'Astronomical_Twilight'\n",
        "]\n",
        "\n",
        "df = df.drop(columns=columns_to_drop)\n",
        "\n",
        "# Confirm the changes\n",
        "print(f\"Columns dropped: {columns_to_drop}\")\n",
        "print(f\"Remaining columns: {df.columns.tolist()}\")\n"
      ]
    },
    {
      "cell_type": "code",
      "execution_count": 114,
      "metadata": {
        "colab": {
          "base_uri": "https://localhost:8080/",
          "height": 1000
        },
        "id": "jDNtT02AXG0c",
        "outputId": "535a7cf2-0b93-4052-8970-2decb3bbd117"
      },
      "outputs": [
        {
          "data": {
            "text/html": [
              "<div>\n",
              "<style scoped>\n",
              "    .dataframe tbody tr th:only-of-type {\n",
              "        vertical-align: middle;\n",
              "    }\n",
              "\n",
              "    .dataframe tbody tr th {\n",
              "        vertical-align: top;\n",
              "    }\n",
              "\n",
              "    .dataframe thead th {\n",
              "        text-align: right;\n",
              "    }\n",
              "</style>\n",
              "<table border=\"1\" class=\"dataframe\">\n",
              "  <thead>\n",
              "    <tr style=\"text-align: right;\">\n",
              "      <th></th>\n",
              "      <th>0</th>\n",
              "    </tr>\n",
              "  </thead>\n",
              "  <tbody>\n",
              "    <tr>\n",
              "      <th>Source</th>\n",
              "      <td>0</td>\n",
              "    </tr>\n",
              "    <tr>\n",
              "      <th>Severity</th>\n",
              "      <td>0</td>\n",
              "    </tr>\n",
              "    <tr>\n",
              "      <th>Start_Time</th>\n",
              "      <td>0</td>\n",
              "    </tr>\n",
              "    <tr>\n",
              "      <th>End_Time</th>\n",
              "      <td>0</td>\n",
              "    </tr>\n",
              "    <tr>\n",
              "      <th>Start_Lat</th>\n",
              "      <td>0</td>\n",
              "    </tr>\n",
              "    <tr>\n",
              "      <th>Start_Lng</th>\n",
              "      <td>0</td>\n",
              "    </tr>\n",
              "    <tr>\n",
              "      <th>End_Lat</th>\n",
              "      <td>169632</td>\n",
              "    </tr>\n",
              "    <tr>\n",
              "      <th>End_Lng</th>\n",
              "      <td>169632</td>\n",
              "    </tr>\n",
              "    <tr>\n",
              "      <th>Distance(mi)</th>\n",
              "      <td>0</td>\n",
              "    </tr>\n",
              "    <tr>\n",
              "      <th>City</th>\n",
              "      <td>22</td>\n",
              "    </tr>\n",
              "    <tr>\n",
              "      <th>County</th>\n",
              "      <td>0</td>\n",
              "    </tr>\n",
              "    <tr>\n",
              "      <th>State</th>\n",
              "      <td>0</td>\n",
              "    </tr>\n",
              "    <tr>\n",
              "      <th>Temperature(F)</th>\n",
              "      <td>8302</td>\n",
              "    </tr>\n",
              "    <tr>\n",
              "      <th>Wind_Chill(F)</th>\n",
              "      <td>99699</td>\n",
              "    </tr>\n",
              "    <tr>\n",
              "      <th>Humidity(%)</th>\n",
              "      <td>8812</td>\n",
              "    </tr>\n",
              "    <tr>\n",
              "      <th>Pressure(in)</th>\n",
              "      <td>7139</td>\n",
              "    </tr>\n",
              "    <tr>\n",
              "      <th>Visibility(mi)</th>\n",
              "      <td>8936</td>\n",
              "    </tr>\n",
              "    <tr>\n",
              "      <th>Wind_Direction</th>\n",
              "      <td>8865</td>\n",
              "    </tr>\n",
              "    <tr>\n",
              "      <th>Wind_Speed(mph)</th>\n",
              "      <td>28492</td>\n",
              "    </tr>\n",
              "    <tr>\n",
              "      <th>Precipitation(in)</th>\n",
              "      <td>109952</td>\n",
              "    </tr>\n",
              "    <tr>\n",
              "      <th>Weather_Condition</th>\n",
              "      <td>8770</td>\n",
              "    </tr>\n",
              "    <tr>\n",
              "      <th>Amenity</th>\n",
              "      <td>0</td>\n",
              "    </tr>\n",
              "    <tr>\n",
              "      <th>Bump</th>\n",
              "      <td>0</td>\n",
              "    </tr>\n",
              "    <tr>\n",
              "      <th>Crossing</th>\n",
              "      <td>0</td>\n",
              "    </tr>\n",
              "    <tr>\n",
              "      <th>Give_Way</th>\n",
              "      <td>0</td>\n",
              "    </tr>\n",
              "    <tr>\n",
              "      <th>Junction</th>\n",
              "      <td>0</td>\n",
              "    </tr>\n",
              "    <tr>\n",
              "      <th>No_Exit</th>\n",
              "      <td>0</td>\n",
              "    </tr>\n",
              "    <tr>\n",
              "      <th>Railway</th>\n",
              "      <td>0</td>\n",
              "    </tr>\n",
              "    <tr>\n",
              "      <th>Roundabout</th>\n",
              "      <td>0</td>\n",
              "    </tr>\n",
              "    <tr>\n",
              "      <th>Station</th>\n",
              "      <td>0</td>\n",
              "    </tr>\n",
              "    <tr>\n",
              "      <th>Stop</th>\n",
              "      <td>0</td>\n",
              "    </tr>\n",
              "    <tr>\n",
              "      <th>Traffic_Calming</th>\n",
              "      <td>0</td>\n",
              "    </tr>\n",
              "    <tr>\n",
              "      <th>Traffic_Signal</th>\n",
              "      <td>0</td>\n",
              "    </tr>\n",
              "    <tr>\n",
              "      <th>Sunrise_Sunset</th>\n",
              "      <td>1212</td>\n",
              "    </tr>\n",
              "    <tr>\n",
              "      <th>Hour</th>\n",
              "      <td>0</td>\n",
              "    </tr>\n",
              "  </tbody>\n",
              "</table>\n",
              "</div><br><label><b>dtype:</b> int64</label>"
            ],
            "text/plain": [
              "Source                    0\n",
              "Severity                  0\n",
              "Start_Time                0\n",
              "End_Time                  0\n",
              "Start_Lat                 0\n",
              "Start_Lng                 0\n",
              "End_Lat              169632\n",
              "End_Lng              169632\n",
              "Distance(mi)              0\n",
              "City                     22\n",
              "County                    0\n",
              "State                     0\n",
              "Temperature(F)         8302\n",
              "Wind_Chill(F)         99699\n",
              "Humidity(%)            8812\n",
              "Pressure(in)           7139\n",
              "Visibility(mi)         8936\n",
              "Wind_Direction         8865\n",
              "Wind_Speed(mph)       28492\n",
              "Precipitation(in)    109952\n",
              "Weather_Condition      8770\n",
              "Amenity                   0\n",
              "Bump                      0\n",
              "Crossing                  0\n",
              "Give_Way                  0\n",
              "Junction                  0\n",
              "No_Exit                   0\n",
              "Railway                   0\n",
              "Roundabout                0\n",
              "Station                   0\n",
              "Stop                      0\n",
              "Traffic_Calming           0\n",
              "Traffic_Signal            0\n",
              "Sunrise_Sunset         1212\n",
              "Hour                      0\n",
              "dtype: int64"
            ]
          },
          "execution_count": 114,
          "metadata": {},
          "output_type": "execute_result"
        }
      ],
      "source": [
        "df.isnull().sum()"
      ]
    },
    {
      "cell_type": "code",
      "execution_count": 115,
      "metadata": {
        "colab": {
          "base_uri": "https://localhost:8080/"
        },
        "id": "9Ob7NwktXGxD",
        "outputId": "96aef09d-5ef2-4022-92e7-6a331a896e5d"
      },
      "outputs": [
        {
          "name": "stderr",
          "output_type": "stream",
          "text": [
            "<ipython-input-115-eb06522ae358>:6: FutureWarning: A value is trying to be set on a copy of a DataFrame or Series through chained assignment using an inplace method.\n",
            "The behavior will change in pandas 3.0. This inplace method will never work because the intermediate object on which we are setting values always behaves as a copy.\n",
            "\n",
            "For example, when doing 'df[col].method(value, inplace=True)', try using 'df.method({col: value}, inplace=True)' or df[col] = df[col].method(value) instead, to perform the operation inplace on the original object.\n",
            "\n",
            "\n",
            "  df[col].fillna(df[col].mode()[0], inplace=True)\n",
            "<ipython-input-115-eb06522ae358>:12: FutureWarning: A value is trying to be set on a copy of a DataFrame or Series through chained assignment using an inplace method.\n",
            "The behavior will change in pandas 3.0. This inplace method will never work because the intermediate object on which we are setting values always behaves as a copy.\n",
            "\n",
            "For example, when doing 'df[col].method(value, inplace=True)', try using 'df.method({col: value}, inplace=True)' or df[col] = df[col].method(value) instead, to perform the operation inplace on the original object.\n",
            "\n",
            "\n",
            "  df[col].fillna(df[col].median(), inplace=True)\n"
          ]
        }
      ],
      "source": [
        "# Using MODE imputation for categorical columns\n",
        "categorical_columns = ['City',\n",
        "                       'Wind_Direction', 'Weather_Condition',\n",
        "                       'Sunrise_Sunset']\n",
        "for col in categorical_columns:\n",
        "    df[col].fillna(df[col].mode()[0], inplace=True)\n",
        "\n",
        "# Mean/median imputation for numerical columns\n",
        "numerical_columns = ['Temperature(F)', 'Humidity(%)', 'Pressure(in)',\n",
        "                     'Visibility(mi)', 'Wind_Speed(mph)']\n",
        "for col in numerical_columns:\n",
        "    df[col].fillna(df[col].median(), inplace=True)\n",
        "\n"
      ]
    },
    {
      "cell_type": "code",
      "execution_count": 116,
      "metadata": {
        "colab": {
          "base_uri": "https://localhost:8080/"
        },
        "id": "-HRfsoxFXGuN",
        "outputId": "ec2c74f1-3b6b-46a1-9a50-fcd72e79b11e"
      },
      "outputs": [
        {
          "data": {
            "text/plain": [
              "Index(['Source', 'Severity', 'Start_Time', 'End_Time', 'Start_Lat',\n",
              "       'Start_Lng', 'End_Lat', 'End_Lng', 'Distance(mi)', 'City', 'County',\n",
              "       'State', 'Temperature(F)', 'Wind_Chill(F)', 'Humidity(%)',\n",
              "       'Pressure(in)', 'Visibility(mi)', 'Wind_Direction', 'Wind_Speed(mph)',\n",
              "       'Precipitation(in)', 'Weather_Condition', 'Amenity', 'Bump', 'Crossing',\n",
              "       'Give_Way', 'Junction', 'No_Exit', 'Railway', 'Roundabout', 'Station',\n",
              "       'Stop', 'Traffic_Calming', 'Traffic_Signal', 'Sunrise_Sunset', 'Hour'],\n",
              "      dtype='object')"
            ]
          },
          "execution_count": 116,
          "metadata": {},
          "output_type": "execute_result"
        }
      ],
      "source": [
        "df.columns"
      ]
    },
    {
      "cell_type": "code",
      "execution_count": null,
      "metadata": {
        "colab": {
          "base_uri": "https://localhost:8080/",
          "height": 1000
        },
        "id": "g4hxX6Q7XGr2",
        "outputId": "ff1e0fa8-03eb-4259-a724-bbac3640e724"
      },
      "outputs": [],
      "source": [
        "df.isnull().sum()"
      ]
    },
    {
      "cell_type": "markdown",
      "metadata": {
        "id": "pRtINIe3cZx7"
      },
      "source": [
        "## **Cleaning Wind_Direction**"
      ]
    },
    {
      "cell_type": "markdown",
      "metadata": {
        "id": "UvSWW-HJaUX-"
      },
      "source": [
        "*   Calm -> CALM\n",
        "*   'West', 'WSW', and 'WNW' into 'W'\n",
        "*   'South', 'SSW', and 'SSE' into 'S'\n",
        "*   'North', 'NNW', and 'NNE' into 'N'\n",
        "*   'East', 'ESE', and 'ENE' into 'E'\n",
        "*   Variable wind ->VAR\n"
      ]
    },
    {
      "cell_type": "code",
      "execution_count": 118,
      "metadata": {
        "colab": {
          "base_uri": "https://localhost:8080/"
        },
        "id": "_P5We8IzsVgx",
        "outputId": "1fddb740-007e-44c3-a049-990601873676"
      },
      "outputs": [
        {
          "name": "stdout",
          "output_type": "stream",
          "text": [
            "Wind Direction after simplification:  ['CALM' 'NE' 'S' 'E' 'W' 'SE' 'N' 'VAR' 'NW' 'SW']\n"
          ]
        }
      ],
      "source": [
        "df.loc[df['Wind_Direction']=='Calm','Wind_Direction'] = 'CALM'\n",
        "df.loc[(df['Wind_Direction']=='West')|(df['Wind_Direction']=='WSW')|(df['Wind_Direction']=='WNW'),'Wind_Direction'] = 'W'\n",
        "df.loc[(df['Wind_Direction']=='South')|(df['Wind_Direction']=='SSW')|(df['Wind_Direction']=='SSE'),'Wind_Direction'] = 'S'\n",
        "df.loc[(df['Wind_Direction']=='North')|(df['Wind_Direction']=='NNW')|(df['Wind_Direction']=='NNE'),'Wind_Direction'] = 'N'\n",
        "df.loc[(df['Wind_Direction']=='East')|(df['Wind_Direction']=='ESE')|(df['Wind_Direction']=='ENE'),'Wind_Direction'] = 'E'\n",
        "df.loc[df['Wind_Direction']=='Variable','Wind_Direction'] = 'VAR'\n",
        "print(\"Wind Direction after simplification: \", df['Wind_Direction'].unique())"
      ]
    },
    {
      "cell_type": "markdown",
      "metadata": {
        "id": "mzEXLTAFcft7"
      },
      "source": [
        "### **Cleaning Weather_Condition**"
      ]
    },
    {
      "cell_type": "code",
      "execution_count": 119,
      "metadata": {
        "colab": {
          "base_uri": "https://localhost:8080/"
        },
        "id": "u2jBwCCscSDY",
        "outputId": "ffd53887-1e75-4767-b2c2-5d2e131a38ca"
      },
      "outputs": [
        {
          "data": {
            "text/plain": [
              "array(['Cloudy', 'Fog', 'Partly Cloudy', 'Fair', 'Mostly Cloudy',\n",
              "       'Light Rain', 'Clear', 'Light Snow', 'Wintry Mix', 'Overcast',\n",
              "       'T-Storm', 'Light Drizzle', 'Heavy T-Storm', 'Scattered Clouds',\n",
              "       'Heavy Rain', 'Rain', 'Partly Cloudy / Windy', 'Cloudy / Windy',\n",
              "       'Light Thunderstorms and Rain', 'Light Freezing Rain', 'Thunder',\n",
              "       'T-Storm / Windy', 'Wintry Mix / Windy', 'Fair / Windy',\n",
              "       'Light Rain with Thunder', 'Haze', 'Heavy Snow',\n",
              "       'N/A Precipitation', 'Drizzle', 'Thunder in the Vicinity', 'Snow',\n",
              "       'Thunderstorms and Rain', 'Mostly Cloudy / Windy',\n",
              "       'Heavy Thunderstorms and Rain', 'Heavy Rain / Windy',\n",
              "       'Showers in the Vicinity', 'Thunder / Windy', 'Smoke',\n",
              "       'Light Snow / Windy', 'Snow / Windy', 'Mist',\n",
              "       'Blowing Dust / Windy', 'Thunderstorm', 'Light Rain / Windy',\n",
              "       'Shallow Fog', 'Rain Showers', 'Heavy Drizzle', 'Patches of Fog',\n",
              "       'Light Freezing Fog', 'Snow and Sleet', 'Rain / Windy',\n",
              "       'Haze / Windy', 'Light Freezing Drizzle',\n",
              "       'Light Freezing Rain / Windy', 'Blowing Snow / Windy',\n",
              "       'Heavy Snow / Windy', 'Fog / Windy', 'Thunder / Wintry Mix',\n",
              "       'Heavy T-Storm / Windy', 'Widespread Dust', 'Light Snow and Sleet',\n",
              "       'Light Sleet', 'Light Snow and Sleet / Windy',\n",
              "       'Light Rain Showers', 'Light Rain Shower',\n",
              "       'Sand / Dust Whirls Nearby', 'Light Ice Pellets',\n",
              "       'Light Snow Shower', 'Light Thunderstorms and Snow', 'Sleet',\n",
              "       'Sleet / Windy', 'Light Drizzle / Windy', 'Sand / Dust Whirlwinds',\n",
              "       'Snow and Sleet / Windy', 'Freezing Rain', 'Small Hail',\n",
              "       'Blowing Snow', 'Drizzle and Fog', 'Widespread Dust / Windy',\n",
              "       'Mist / Windy', 'Ice Pellets', 'Heavy Freezing Drizzle', 'Sand',\n",
              "       'Hail', 'Light Snow with Thunder', 'Drizzle / Windy',\n",
              "       'Smoke / Windy', 'Light Snow Showers', 'Light Rain Shower / Windy',\n",
              "       'Snow and Thunder', 'Partial Fog', 'Snow Grains', 'Squalls',\n",
              "       'Thunder / Wintry Mix / Windy', 'Shallow Fog / Windy', 'Tornado',\n",
              "       'Heavy Sleet', 'Rain Shower', 'Freezing Drizzle',\n",
              "       'Drifting Snow / Windy', 'Blowing Dust', 'Squalls / Windy',\n",
              "       'Patches of Fog / Windy'], dtype=object)"
            ]
          },
          "execution_count": 119,
          "metadata": {},
          "output_type": "execute_result"
        }
      ],
      "source": [
        "df['Weather_Condition'].unique()"
      ]
    },
    {
      "cell_type": "code",
      "execution_count": 120,
      "metadata": {
        "id": "dJs2xrgibRIf"
      },
      "outputs": [],
      "source": [
        "weather_conditions = '!'.join(df['Weather_Condition'].dropna().unique().tolist())\n",
        "weather_conditions = np.unique(\n",
        "    np.array(\n",
        "        re.split(\"!|\\s/\\s| and | with |Partly\\s|Mostly\\s|Blowing\\s|Freezing\\s\", weather_conditions)\n",
        "    )\n",
        ").tolist()"
      ]
    },
    {
      "cell_type": "code",
      "execution_count": 121,
      "metadata": {
        "id": "95fOjLGxTeZA"
      },
      "outputs": [],
      "source": [
        "# Encode broader weather categories with 0 and 1\n",
        "df['Clear'] = df['Weather_Condition'].str.contains(r'\\bClear\\b', case=False, na=False).astype(int)\n",
        "df['Cloud'] = df['Weather_Condition'].str.contains(r'\\bCloud|Overcast\\b', case=False, na=False).astype(int)\n",
        "df['Rain'] = df['Weather_Condition'].str.contains(r'\\bRain|Shower|Storm\\b', case=False, na=False).astype(int)\n",
        "df['Heavy_Rain'] = df['Weather_Condition'].str.contains(\n",
        "    r'\\bHeavy Rain|Rain Shower|Heavy T-Storm|Heavy Thunderstorms\\b', case=False, na=False\n",
        ").astype(int)\n",
        "df['Snow'] = df['Weather_Condition'].str.contains(r'\\bSnow|Sleet|Ice|Hail\\b', case=False, na=False).astype(int)\n",
        "df['Heavy_Snow'] = df['Weather_Condition'].str.contains(\n",
        "    r'\\bHeavy Snow|Heavy Sleet|Heavy Ice Pellets|Snow Showers|Squalls\\b', case=False, na=False\n",
        ").astype(int)\n",
        "df['Fog'] = df['Weather_Condition'].str.contains(r'\\bFog|Mist|Haze\\b', case=False, na=False).astype(int)\n",
        "df['Windy'] = df['Weather_Condition'].str.contains(r'\\bWindy|Dust|Tornado\\b', case=False, na=False).astype(int)\n",
        "df['Thunderstorm'] = df['Weather_Condition'].str.contains(r'\\bT-Storm|Thunder\\b', case=False, na=False).astype(int)\n",
        "\n",
        "# Drop the original 'Weather_Condition' column if desired\n",
        "df.drop(columns=['Weather_Condition'], inplace=True)\n"
      ]
    },
    {
      "cell_type": "code",
      "execution_count": 122,
      "metadata": {
        "colab": {
          "base_uri": "https://localhost:8080/"
        },
        "id": "gQ8-XtQDc4m9",
        "outputId": "8a7dacc6-13e0-402d-9cd2-47b1249b8655"
      },
      "outputs": [
        {
          "data": {
            "text/plain": [
              "(386419, 43)"
            ]
          },
          "execution_count": 122,
          "metadata": {},
          "output_type": "execute_result"
        }
      ],
      "source": [
        "df.shape"
      ]
    },
    {
      "cell_type": "code",
      "execution_count": null,
      "metadata": {
        "colab": {
          "base_uri": "https://localhost:8080/",
          "height": 891
        },
        "id": "uNS9ALXWc7Vl",
        "outputId": "79fbe03e-a437-4173-af0c-6637be782465"
      },
      "outputs": [],
      "source": [
        "df.sample(12)"
      ]
    },
    {
      "cell_type": "code",
      "execution_count": null,
      "metadata": {
        "colab": {
          "base_uri": "https://localhost:8080/",
          "height": 1000
        },
        "id": "PMhuTwCcSqhw",
        "outputId": "dfceca2c-ff35-4780-8256-d1055bcd7085"
      },
      "outputs": [],
      "source": [
        "df.isnull().sum()"
      ]
    },
    {
      "cell_type": "code",
      "execution_count": 125,
      "metadata": {
        "colab": {
          "base_uri": "https://localhost:8080/"
        },
        "id": "HZzYLMPKQY_e",
        "outputId": "88d70da9-2515-426b-980c-3385b80ed15b"
      },
      "outputs": [
        {
          "name": "stdout",
          "output_type": "stream",
          "text": [
            "Columns dropped: ['End_Lat', 'End_Lng', 'Wind_Chill(F)', 'Precipitation(in)']\n",
            "Remaining columns: ['Source', 'Severity', 'Start_Time', 'End_Time', 'Start_Lat', 'Start_Lng', 'Distance(mi)', 'City', 'County', 'State', 'Temperature(F)', 'Humidity(%)', 'Pressure(in)', 'Visibility(mi)', 'Wind_Direction', 'Wind_Speed(mph)', 'Amenity', 'Bump', 'Crossing', 'Give_Way', 'Junction', 'No_Exit', 'Railway', 'Roundabout', 'Station', 'Stop', 'Traffic_Calming', 'Traffic_Signal', 'Sunrise_Sunset', 'Hour', 'Clear', 'Cloud', 'Rain', 'Heavy_Rain', 'Snow', 'Heavy_Snow', 'Fog', 'Windy', 'Thunderstorm']\n"
          ]
        }
      ],
      "source": [
        "columns_to_drop = [\n",
        "    'End_Lat', 'End_Lng', 'Wind_Chill(F)', 'Precipitation(in)'\n",
        "]\n",
        "\n",
        "df = df.drop(columns=columns_to_drop)\n",
        "\n",
        "# Confirm the changes\n",
        "print(f\"Columns dropped: {columns_to_drop}\")\n",
        "print(f\"Remaining columns: {df.columns.tolist()}\")"
      ]
    },
    {
      "cell_type": "code",
      "execution_count": 126,
      "metadata": {
        "colab": {
          "base_uri": "https://localhost:8080/"
        },
        "id": "Whd3bKp_S9ir",
        "outputId": "cf718bc1-67ab-483a-c3b1-9eb0ef973991"
      },
      "outputs": [
        {
          "data": {
            "text/plain": [
              "(386419, 39)"
            ]
          },
          "execution_count": 126,
          "metadata": {},
          "output_type": "execute_result"
        }
      ],
      "source": [
        "df.shape"
      ]
    },
    {
      "cell_type": "code",
      "execution_count": 127,
      "metadata": {
        "colab": {
          "base_uri": "https://localhost:8080/"
        },
        "id": "AMwHs0fOS_xV",
        "outputId": "cb11120a-77dc-4a00-96dc-42ca7b94f247"
      },
      "outputs": [
        {
          "name": "stdout",
          "output_type": "stream",
          "text": [
            "    Source  Severity  Start_Lat   Start_Lng  Distance(mi)         City  \\\n",
            "0  Source2         2  39.357891  -77.550835         0.000    Jefferson   \n",
            "1  Source2         3  47.623505 -122.329315         0.000      Seattle   \n",
            "2  Source1         2  35.764024  -80.071614         0.632  Thomasville   \n",
            "3  Source1         2  38.484049  -77.393865         1.114     Stafford   \n",
            "4  Source2         2  29.686310  -95.364594         0.000      Houston   \n",
            "\n",
            "      County State  Temperature(F)  Humidity(%)  ...  Clear  Cloud Rain  \\\n",
            "0  Frederick    MD            50.0         94.0  ...      0      1    0   \n",
            "1       King    WA            59.0         87.0  ...      0      0    0   \n",
            "2   Davidson    NC            63.0         50.0  ...      0      1    0   \n",
            "3   Stafford    VA            88.0         39.0  ...      0      0    0   \n",
            "4     Harris    TX            70.0         61.0  ...      0      1    0   \n",
            "\n",
            "   Heavy_Rain  Snow  Heavy_Snow  Fog  Windy  Thunderstorm  Total_Time  \n",
            "0           0     0           0    0      0             0      2655.0  \n",
            "1           0     0           0    1      0             0      3745.0  \n",
            "2           0     0           0    0      0             0      4940.0  \n",
            "3           0     0           0    0      0             0      8130.0  \n",
            "4           0     0           0    0      0             0      3551.0  \n",
            "\n",
            "[5 rows x 38 columns]\n"
          ]
        }
      ],
      "source": [
        "df['Start_Time'] = pd.to_datetime(df['Start_Time'])\n",
        "df['End_Time'] = pd.to_datetime(df['End_Time'])\n",
        "\n",
        "df['Total_Time'] = (df['End_Time'] - df['Start_Time']).dt.total_seconds()\n",
        "\n",
        "df.drop(columns=['Start_Time', 'End_Time'], inplace=True)\n",
        "\n",
        "print(df.head())\n"
      ]
    },
    {
      "cell_type": "code",
      "execution_count": 128,
      "metadata": {
        "colab": {
          "base_uri": "https://localhost:8080/"
        },
        "id": "rOLLj9RNTHgY",
        "outputId": "a7986b25-05cd-4bed-90dc-780bd77c5aae"
      },
      "outputs": [
        {
          "name": "stdout",
          "output_type": "stream",
          "text": [
            "Number of rows with negative Total_Time: 0\n"
          ]
        }
      ],
      "source": [
        "negative_count = (df['Total_Time'] < 0).sum()\n",
        "print(f\"Number of rows with negative Total_Time: {negative_count}\")\n",
        "\n"
      ]
    },
    {
      "cell_type": "code",
      "execution_count": null,
      "metadata": {
        "colab": {
          "base_uri": "https://localhost:8080/",
          "height": 458
        },
        "id": "N3mjnr7_UCI9",
        "outputId": "df576d30-5bbd-44fa-ff04-bbaf07288eaa"
      },
      "outputs": [],
      "source": [
        "df['County']"
      ]
    },
    {
      "cell_type": "code",
      "execution_count": null,
      "metadata": {
        "colab": {
          "base_uri": "https://localhost:8080/",
          "height": 489
        },
        "id": "cN4VwM4PVGc6",
        "outputId": "361b6e78-47fb-4537-aa18-3b594d5cef59"
      },
      "outputs": [],
      "source": [
        "df['County'].value_counts()"
      ]
    },
    {
      "cell_type": "code",
      "execution_count": null,
      "metadata": {
        "colab": {
          "base_uri": "https://localhost:8080/",
          "height": 452
        },
        "id": "klLLWlTnUSfV",
        "outputId": "24becc0c-7f9c-4975-c205-1a66d4802e73"
      },
      "outputs": [],
      "source": [
        "sns.scatterplot(x='Start_Lng', y='Start_Lat', data=df, hue='County', legend=False, s=20)\n",
        "plt.show()"
      ]
    },
    {
      "cell_type": "code",
      "execution_count": null,
      "metadata": {
        "colab": {
          "base_uri": "https://localhost:8080/",
          "height": 966
        },
        "id": "UQagTLZLUsXv",
        "outputId": "efc2f30a-2143-42eb-dac1-13c067cb6b60"
      },
      "outputs": [],
      "source": [
        "import pandas as pd\n",
        "import numpy as np\n",
        "import seaborn as sns\n",
        "import matplotlib.pyplot as plt\n",
        "\n",
        "# Select numeric columns only\n",
        "numeric_df = df.select_dtypes(include=[np.number])\n",
        "\n",
        "# Compute correlation matrix for numeric columns\n",
        "correlation_matrix = numeric_df.corr(method='spearman')\n",
        "\n",
        "# Display the correlation matrix\n",
        "# print(\"Correlation Matrix:\")\n",
        "# print(correlation_matrix)\n",
        "\n",
        "# Visualize the correlation matrix with a heatmap\n",
        "plt.figure(figsize=(12, 10))\n",
        "sns.heatmap(correlation_matrix, annot=True, cmap='coolwarm', fmt=\".2f\")\n",
        "plt.title(\"Correlation Matrix of Numeric Columns\")\n",
        "plt.show()\n"
      ]
    },
    {
      "cell_type": "markdown",
      "metadata": {
        "id": "dMtw5qIzYXVC"
      },
      "source": [
        "### Observations from the Correlation Matrix:\n",
        "\n",
        "1. **Low Correlation with Severity**:\n",
        "   - Most features show very low correlation (close to 0) with the target variable `Severity`. This suggests that none of the numeric columns are strongly predictive of accident severity on their own.\n",
        "\n",
        "2. **Negative Correlation**:\n",
        "   - `Start_Lat` has a moderate negative correlation with `Temperature(F)` (-0.44), indicating that colder areas tend to have higher latitudes.\n",
        "   - `Visibility(mi)` and `Fog` show a noticeable negative correlation (-0.37), which is expected since fog reduces visibility.\n",
        "\n",
        "3. **Feature Relationships**:\n",
        "   - `Cloud` and `Rain` are positively correlated (0.28), as cloudiness often leads to rain.\n",
        "   - `Heavy_Rain` and `Rain` are strongly correlated (0.68), which is logical since heavy rain is a subset of rainy weather.\n",
        "   - `Windy` has a moderate correlation with `Wind_Speed(mph)` (0.38), as expected.\n",
        "\n",
        "4. **Highly Correlated Features**:\n",
        "   - `Clear` and `Cloud` show a strong negative correlation (-0.28), as these are often mutually exclusive.\n",
        "   - Features like `Rain` and `Heavy_Rain` have high correlation, indicating redundancy or dependency.\n",
        "\n",
        "5. **Potentially Redundant Features**:\n",
        "   - `Heavy_Rain` may be redundant with `Rain`.\n",
        "   - `Fog` overlaps in meaning with `Visibility(mi)` due to their negative correlation (-0.37).\n",
        "\n",
        "6. **Outliers**:\n",
        "   - `Total_Time` (if it represents the time span of accidents) does not show significant correlation with other variables, indicating it might be independent.\n",
        "\n"
      ]
    },
    {
      "cell_type": "markdown",
      "metadata": {
        "id": "wFzzBIAmdfVZ"
      },
      "source": [
        "###  Correlation Insights:\n",
        "- **Severity Correlations**: Weak correlations across all features, with `Distance(mi)` showing the highest (-0.18).\n",
        "- **Feature Relationships**: Weather-related features (e.g., `Rain`, `Heavy_Rain`, `Cloud`) and `Distance(mi)` with `Total_Time` (0.41) exhibit moderate inter-correlations.\n",
        "- **Geographical Impact**: `Start_Lat` negatively correlates with `Temperature(F)` (-0.42), reflecting geographical temperature differences.\n",
        "- **Visibility vs Fog**: Strong negative correlation (-0.35) suggests redundancy.\n",
        "\n"
      ]
    },
    {
      "cell_type": "markdown",
      "metadata": {
        "id": "SxLUM756f9V7"
      },
      "source": [
        "### **Encoding Categorical Columns**"
      ]
    },
    {
      "cell_type": "code",
      "execution_count": 133,
      "metadata": {
        "id": "w3XZO5_Rdexr"
      },
      "outputs": [],
      "source": [
        "num_df = df.select_dtypes(include=[np.number])\n",
        "categorical_df = df.select_dtypes(exclude=[np.number])\n"
      ]
    },
    {
      "cell_type": "code",
      "execution_count": 134,
      "metadata": {
        "colab": {
          "base_uri": "https://localhost:8080/"
        },
        "id": "G9hsRNW5WpgA",
        "outputId": "370deff2-2fdc-421c-fa6b-f394172514a9"
      },
      "outputs": [
        {
          "data": {
            "text/plain": [
              "Index(['Source', 'City', 'County', 'State', 'Wind_Direction', 'Amenity',\n",
              "       'Bump', 'Crossing', 'Give_Way', 'Junction', 'No_Exit', 'Railway',\n",
              "       'Roundabout', 'Station', 'Stop', 'Traffic_Calming', 'Traffic_Signal',\n",
              "       'Sunrise_Sunset'],\n",
              "      dtype='object')"
            ]
          },
          "execution_count": 134,
          "metadata": {},
          "output_type": "execute_result"
        }
      ],
      "source": [
        "categorical_df.columns\n"
      ]
    },
    {
      "cell_type": "code",
      "execution_count": 135,
      "metadata": {
        "colab": {
          "base_uri": "https://localhost:8080/",
          "height": 178
        },
        "id": "1AMMKQDSeCXD",
        "outputId": "6ceaa204-51ec-4c90-83ac-516e2957a778"
      },
      "outputs": [
        {
          "data": {
            "text/html": [
              "<div>\n",
              "<style scoped>\n",
              "    .dataframe tbody tr th:only-of-type {\n",
              "        vertical-align: middle;\n",
              "    }\n",
              "\n",
              "    .dataframe tbody tr th {\n",
              "        vertical-align: top;\n",
              "    }\n",
              "\n",
              "    .dataframe thead th {\n",
              "        text-align: right;\n",
              "    }\n",
              "</style>\n",
              "<table border=\"1\" class=\"dataframe\">\n",
              "  <thead>\n",
              "    <tr style=\"text-align: right;\">\n",
              "      <th></th>\n",
              "      <th>count</th>\n",
              "    </tr>\n",
              "    <tr>\n",
              "      <th>Sunrise_Sunset</th>\n",
              "      <th></th>\n",
              "    </tr>\n",
              "  </thead>\n",
              "  <tbody>\n",
              "    <tr>\n",
              "      <th>Day</th>\n",
              "      <td>267721</td>\n",
              "    </tr>\n",
              "    <tr>\n",
              "      <th>Night</th>\n",
              "      <td>118698</td>\n",
              "    </tr>\n",
              "  </tbody>\n",
              "</table>\n",
              "</div><br><label><b>dtype:</b> int64</label>"
            ],
            "text/plain": [
              "Sunrise_Sunset\n",
              "Day      267721\n",
              "Night    118698\n",
              "Name: count, dtype: int64"
            ]
          },
          "execution_count": 135,
          "metadata": {},
          "output_type": "execute_result"
        }
      ],
      "source": [
        "df['Sunrise_Sunset'].value_counts()"
      ]
    },
    {
      "cell_type": "markdown",
      "metadata": {
        "id": "5h1TwmxwgMxW"
      },
      "source": [
        "#### Encoding Binary Columns"
      ]
    },
    {
      "cell_type": "code",
      "execution_count": 136,
      "metadata": {
        "id": "NgAV31dLeu42"
      },
      "outputs": [],
      "source": [
        "binary_cols = ['Amenity', 'Bump', 'Crossing', 'Give_Way', 'Junction', 'No_Exit',\n",
        "               'Railway', 'Roundabout', 'Station', 'Stop', 'Traffic_Calming', 'Traffic_Signal']\n",
        "df[binary_cols] = df[binary_cols].astype(int)\n",
        "\n",
        "df['Sunrise_Sunset'] = df['Sunrise_Sunset'].map({'Day': 1, 'Night': 0})"
      ]
    },
    {
      "cell_type": "code",
      "execution_count": 137,
      "metadata": {
        "id": "cPdGcBwxfS5X"
      },
      "outputs": [],
      "source": [
        "df = pd.get_dummies(df, columns=['Source','Wind_Direction'], drop_first=True)\n"
      ]
    },
    {
      "cell_type": "code",
      "execution_count": null,
      "metadata": {
        "colab": {
          "base_uri": "https://localhost:8080/",
          "height": 489
        },
        "id": "JD4-jeVugVC9",
        "outputId": "89a98329-a769-4aec-acd3-45bd89f6d0c9"
      },
      "outputs": [],
      "source": [
        "df['County'].value_counts()"
      ]
    },
    {
      "cell_type": "code",
      "execution_count": 140,
      "metadata": {
        "colab": {
          "base_uri": "https://localhost:8080/"
        },
        "id": "RzqGkNIgmAlm",
        "outputId": "a6446d1b-253f-46d5-8d5c-be64170b32ca"
      },
      "outputs": [
        {
          "name": "stdout",
          "output_type": "stream",
          "text": [
            "Requirement already satisfied: category_encoders in /usr/local/lib/python3.10/dist-packages (2.7.0)\n",
            "Requirement already satisfied: numpy>=1.14.0 in /usr/local/lib/python3.10/dist-packages (from category_encoders) (1.26.4)\n",
            "Requirement already satisfied: pandas>=1.0.5 in /usr/local/lib/python3.10/dist-packages (from category_encoders) (2.2.2)\n",
            "Requirement already satisfied: patsy>=0.5.1 in /usr/local/lib/python3.10/dist-packages (from category_encoders) (1.0.1)\n",
            "Requirement already satisfied: scikit-learn<1.6.0,>=1.0.0 in /usr/local/lib/python3.10/dist-packages (from category_encoders) (1.5.2)\n",
            "Requirement already satisfied: scipy>=1.0.0 in /usr/local/lib/python3.10/dist-packages (from category_encoders) (1.13.1)\n",
            "Requirement already satisfied: statsmodels>=0.9.0 in /usr/local/lib/python3.10/dist-packages (from category_encoders) (0.14.4)\n",
            "Requirement already satisfied: python-dateutil>=2.8.2 in /usr/local/lib/python3.10/dist-packages (from pandas>=1.0.5->category_encoders) (2.8.2)\n",
            "Requirement already satisfied: pytz>=2020.1 in /usr/local/lib/python3.10/dist-packages (from pandas>=1.0.5->category_encoders) (2024.2)\n",
            "Requirement already satisfied: tzdata>=2022.7 in /usr/local/lib/python3.10/dist-packages (from pandas>=1.0.5->category_encoders) (2024.2)\n",
            "Requirement already satisfied: joblib>=1.2.0 in /usr/local/lib/python3.10/dist-packages (from scikit-learn<1.6.0,>=1.0.0->category_encoders) (1.4.2)\n",
            "Requirement already satisfied: threadpoolctl>=3.1.0 in /usr/local/lib/python3.10/dist-packages (from scikit-learn<1.6.0,>=1.0.0->category_encoders) (3.5.0)\n",
            "Requirement already satisfied: packaging>=21.3 in /usr/local/lib/python3.10/dist-packages (from statsmodels>=0.9.0->category_encoders) (24.2)\n",
            "Requirement already satisfied: six>=1.5 in /usr/local/lib/python3.10/dist-packages (from python-dateutil>=2.8.2->pandas>=1.0.5->category_encoders) (1.17.0)\n"
          ]
        }
      ],
      "source": [
        "!pip install category_encoders"
      ]
    },
    {
      "cell_type": "code",
      "execution_count": 141,
      "metadata": {
        "colab": {
          "base_uri": "https://localhost:8080/",
          "height": 241
        },
        "id": "FmSfX0Cum7MT",
        "outputId": "f1bc76e7-ad54-4250-cffd-5934ca842a37"
      },
      "outputs": [
        {
          "data": {
            "text/html": [
              "<div>\n",
              "<style scoped>\n",
              "    .dataframe tbody tr th:only-of-type {\n",
              "        vertical-align: middle;\n",
              "    }\n",
              "\n",
              "    .dataframe tbody tr th {\n",
              "        vertical-align: top;\n",
              "    }\n",
              "\n",
              "    .dataframe thead th {\n",
              "        text-align: right;\n",
              "    }\n",
              "</style>\n",
              "<table border=\"1\" class=\"dataframe\">\n",
              "  <thead>\n",
              "    <tr style=\"text-align: right;\">\n",
              "      <th></th>\n",
              "      <th>count</th>\n",
              "    </tr>\n",
              "    <tr>\n",
              "      <th>Severity</th>\n",
              "      <th></th>\n",
              "    </tr>\n",
              "  </thead>\n",
              "  <tbody>\n",
              "    <tr>\n",
              "      <th>2</th>\n",
              "      <td>307849</td>\n",
              "    </tr>\n",
              "    <tr>\n",
              "      <th>3</th>\n",
              "      <td>64967</td>\n",
              "    </tr>\n",
              "    <tr>\n",
              "      <th>4</th>\n",
              "      <td>10235</td>\n",
              "    </tr>\n",
              "    <tr>\n",
              "      <th>1</th>\n",
              "      <td>3368</td>\n",
              "    </tr>\n",
              "  </tbody>\n",
              "</table>\n",
              "</div><br><label><b>dtype:</b> int64</label>"
            ],
            "text/plain": [
              "Severity\n",
              "2    307849\n",
              "3     64967\n",
              "4     10235\n",
              "1      3368\n",
              "Name: count, dtype: int64"
            ]
          },
          "execution_count": 141,
          "metadata": {},
          "output_type": "execute_result"
        }
      ],
      "source": [
        "df['Severity'].value_counts()"
      ]
    },
    {
      "cell_type": "code",
      "execution_count": 142,
      "metadata": {
        "colab": {
          "base_uri": "https://localhost:8080/"
        },
        "id": "WL4I0jTas-zD",
        "outputId": "85e82c3f-6baf-4c44-dd32-e17e95f30e91"
      },
      "outputs": [
        {
          "data": {
            "text/plain": [
              "Index(['Severity', 'Start_Lat', 'Start_Lng', 'Distance(mi)', 'City', 'County',\n",
              "       'State', 'Temperature(F)', 'Humidity(%)', 'Pressure(in)',\n",
              "       'Visibility(mi)', 'Wind_Speed(mph)', 'Amenity', 'Bump', 'Crossing',\n",
              "       'Give_Way', 'Junction', 'No_Exit', 'Railway', 'Roundabout', 'Station',\n",
              "       'Stop', 'Traffic_Calming', 'Traffic_Signal', 'Sunrise_Sunset', 'Hour',\n",
              "       'Clear', 'Cloud', 'Rain', 'Heavy_Rain', 'Snow', 'Heavy_Snow', 'Fog',\n",
              "       'Windy', 'Thunderstorm', 'Total_Time', 'Source_Source2',\n",
              "       'Source_Source3', 'Wind_Direction_E', 'Wind_Direction_N',\n",
              "       'Wind_Direction_NE', 'Wind_Direction_NW', 'Wind_Direction_S',\n",
              "       'Wind_Direction_SE', 'Wind_Direction_SW', 'Wind_Direction_VAR',\n",
              "       'Wind_Direction_W'],\n",
              "      dtype='object')"
            ]
          },
          "execution_count": 142,
          "metadata": {},
          "output_type": "execute_result"
        }
      ],
      "source": [
        "df.columns"
      ]
    },
    {
      "cell_type": "code",
      "execution_count": 142,
      "metadata": {
        "id": "gO3TJKPms5L4"
      },
      "outputs": [],
      "source": []
    },
    {
      "cell_type": "code",
      "execution_count": 143,
      "metadata": {
        "colab": {
          "base_uri": "https://localhost:8080/"
        },
        "id": "aqePN3x1gXd5",
        "outputId": "391a156b-cd66-46be-975a-3a8eba25bcb3"
      },
      "outputs": [
        {
          "name": "stdout",
          "output_type": "stream",
          "text": [
            "Accuracy with City/County: 0.8665312354433\n",
            "Accuracy without City/County: 0.8607732519020754\n"
          ]
        }
      ],
      "source": [
        "# Import libraries\n",
        "from category_encoders import TargetEncoder\n",
        "from sklearn.model_selection import train_test_split\n",
        "from sklearn.ensemble import RandomForestClassifier\n",
        "from xgboost import XGBClassifier\n",
        "from sklearn.metrics import accuracy_score\n",
        "\n",
        "# Split data into features (X) and target (y)\n",
        "X = df.drop(columns=['Severity'])  # Assuming 'Severity' is the target\n",
        "y = df['Severity']\n",
        "\n",
        "y = y - 1\n",
        "\n",
        "# Check for and handle missing values in City and County (optional)\n",
        "X['City'] = X['City'].fillna('Unknown')\n",
        "X['County'] = X['County'].fillna('Unknown')\n",
        "X['County'] = X['County'].fillna('Unknown')\n",
        "\n",
        "# Correct train-test split order\n",
        "X_train, X_test, y_train, y_test = train_test_split(X, y, test_size=0.2, random_state=42)\n",
        "\n",
        "# Apply Target Encoding for high-cardinality columns\n",
        "encoder = TargetEncoder(cols=['City', 'County', 'State'])\n",
        "X_train_encoded = encoder.fit_transform(X_train, y_train)\n",
        "X_test_encoded = encoder.transform(X_test)\n",
        "\n",
        "# Ensure all columns are numeric\n",
        "assert X_train_encoded.select_dtypes(include=['object']).empty, \"Non-numeric columns found!\"\n",
        "assert X_test_encoded.select_dtypes(include=['object']).empty, \"Non-numeric columns found!\"\n",
        "\n",
        "# Train model with encoded City and County\n",
        "model_with_encoding = XGBClassifier(random_state=42)\n",
        "model_with_encoding.fit(X_train_encoded, y_train)\n",
        "y_pred_with_encoding = model_with_encoding.predict(X_test_encoded)\n",
        "score_with_city_county = accuracy_score(y_test, y_pred_with_encoding)\n",
        "\n",
        "# Train model without City and County\n",
        "X_train_dropped = X_train.drop(columns=['City', 'County', 'State'])\n",
        "X_test_dropped = X_test.drop(columns=['City', 'County', 'State'])\n",
        "\n",
        "model_without_encoding = XGBClassifier(random_state=42)\n",
        "model_without_encoding.fit(X_train_dropped, y_train)\n",
        "y_pred_without_encoding = model_without_encoding.predict(X_test_dropped)\n",
        "score_without_city_county = accuracy_score(y_test, y_pred_without_encoding)\n",
        "\n",
        "# Print results\n",
        "print(\"Accuracy with City/County:\", score_with_city_county)\n",
        "print(\"Accuracy without City/County:\", score_without_city_county)\n"
      ]
    },
    {
      "cell_type": "code",
      "execution_count": 144,
      "metadata": {
        "id": "5ESn9hJgtLDO"
      },
      "outputs": [],
      "source": [
        "df.to_csv('cleaned_data.csv', index=False)"
      ]
    },
    {
      "cell_type": "code",
      "execution_count": null,
      "metadata": {
        "id": "gdI7dvx-l6pd"
      },
      "outputs": [],
      "source": [
        "print(X_train_encoded.select_dtypes(include=['object']).columns)\n",
        "\n"
      ]
    },
    {
      "cell_type": "code",
      "execution_count": null,
      "metadata": {
        "id": "hndAjRIHnOjP"
      },
      "outputs": [],
      "source": [
        "df.head()"
      ]
    },
    {
      "cell_type": "code",
      "execution_count": null,
      "metadata": {
        "id": "73vvfPUCr1sc"
      },
      "outputs": [],
      "source": []
    }
  ],
  "metadata": {
    "colab": {
      "provenance": []
    },
    "kernelspec": {
      "display_name": "Python 3",
      "name": "python3"
    },
    "language_info": {
      "name": "python"
    }
  },
  "nbformat": 4,
  "nbformat_minor": 0
}
